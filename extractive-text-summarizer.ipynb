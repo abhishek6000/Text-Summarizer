{
 "cells": [
  {
   "cell_type": "code",
   "execution_count": 1,
   "metadata": {
    "_cell_guid": "b1076dfc-b9ad-4769-8c92-a6c4dae69d19",
    "_uuid": "8f2839f25d086af736a60e9eeb907d3b93b6e0e5"
   },
   "outputs": [
    {
     "name": "stdout",
     "output_type": "stream",
     "text": [
      "['file.txt']\n"
     ]
    }
   ],
   "source": [
    "# This Python 3 environment comes with many helpful analytics libraries installed\n",
    "# It is defined by the kaggle/python docker image: https://github.com/kaggle/docker-python\n",
    "# For example, here's several helpful packages to load in \n",
    "import numpy as np # linear algebra\n",
    "import nltk\n",
    "from nltk.tokenize import RegexpTokenizer\n",
    "import pandas as pd # data processing, CSV file I/O (e.g. pd.read_csv)\n",
    "import os\n",
    "import string\n",
    "print(os.listdir(\"../input\"))\n"
   ]
  },
  {
   "cell_type": "markdown",
   "metadata": {},
   "source": [
    "# **Paragraph to Sentences**"
   ]
  },
  {
   "cell_type": "code",
   "execution_count": 2,
   "metadata": {
    "_cell_guid": "79c7e3d0-c299-4dcb-8224-4455121ee9b0",
    "_uuid": "d629ff2d2480ee46fbb7e2d37f6b5fab8052498a"
   },
   "outputs": [
    {
     "name": "stdout",
     "output_type": "stream",
     "text": [
      "Determinism is the philosophical idea that all events, including moral choices, are determined completely by previously existing causes. Determinism is at times understood to preclude free will because it entails that humans cannot act otherwise than they do. It can also be called hard determinism from this point of view. Hard determinism is a position on the relationship of determinism to free will. The theory holds that the universe is utterly rational because complete knowledge of any given situation assures that unerring knowledge of its future is also possible.[1] Some philosophers suggest variants around this basic definition.Deterministic theories throughout the history of philosophy have sprung from diverse and sometimes overlapping motives and considerations. The opposite of determinism is some kind of indeterminism (otherwise called nondeterminism). Determinism is often contrasted with free will.\n"
     ]
    }
   ],
   "source": [
    "f = open(\"../input/file.txt\",\"r\")\n",
    "f = f.read()\n",
    "word = []        #Tokenized words with sentence demarkation\n",
    "sen = []\n",
    "sen = nltk.sent_tokenize(f)\n",
    "no_of_sent = len(sen)   #Number of sentences\n",
    "print(f)\n",
    "\n",
    "\n"
   ]
  },
  {
   "cell_type": "markdown",
   "metadata": {},
   "source": [
    "# Tokenizing Words"
   ]
  },
  {
   "cell_type": "code",
   "execution_count": 3,
   "metadata": {},
   "outputs": [],
   "source": [
    "sum = 0\n",
    "a = nltk.word_tokenize(sen[0])\n",
    "for i in range(0,no_of_sent):\n",
    "    word.append( nltk.word_tokenize(sen[i]) )\n",
    "    word[i] = [word[i].lower() for word[i] in word[i] if word[i].isalpha()] #Trimming punctuations\n",
    "    sum = sum + len(word[i])\n",
    "no_of_word = sum\n"
   ]
  },
  {
   "cell_type": "markdown",
   "metadata": {},
   "source": [
    "# Weighted Frequency"
   ]
  },
  {
   "cell_type": "code",
   "execution_count": 4,
   "metadata": {},
   "outputs": [],
   "source": [
    "sim = 0\n",
    "word2 = word\n",
    "word2 = [y for x in word2 for y in x] #Flattening\n",
    "\n",
    "unique = [ ]         #Unique words\n",
    "for w in word2:\n",
    "      if w not in unique:\n",
    "           unique.append(w)\n",
    "\n",
    "u_len = len(unique) #Number of unique words\n",
    "frequency = []      #Frequency of unique words in original text word2\n",
    "\n",
    "for i in unique:\n",
    "    for j in word2:\n",
    "        if (i==j):\n",
    "            sim = sim + 1\n",
    "    frequency.append(sim)\n",
    "    sim = 0\n",
    "\n",
    "high = max(frequency) #Stores the highest frequency "
   ]
  },
  {
   "cell_type": "markdown",
   "metadata": {},
   "source": [
    "# Sentence Weightage"
   ]
  },
  {
   "cell_type": "code",
   "execution_count": 5,
   "metadata": {},
   "outputs": [],
   "source": [
    "sen_freq = []   # Stores the frequency ratio of each sentence\n",
    "sum = 0         # Helps adding frequency ratio of each word in a sentence\n",
    "\n",
    "for i in range (0,no_of_sent):   # Traversing sentences\n",
    "    l = len(word[i])\n",
    "    for j in range (0,l):        # Traversing words in each sentence\n",
    "        present = word[i][j]      # Picking each word\n",
    "        \n",
    "        for k in range (0,u_len):     # For checking in unique word array\n",
    "            if (present == unique[k]):\n",
    "                sum = sum + (frequency[k]/high)  # Adding the frequency ratio of a word in a sentence\n",
    "                break   \n",
    "        \n",
    "    sen_freq.append(sum)\n",
    "    sum = 0              \n",
    "    "
   ]
  },
  {
   "cell_type": "markdown",
   "metadata": {},
   "source": [
    "# Sorting by Priority"
   ]
  },
  {
   "cell_type": "code",
   "execution_count": 6,
   "metadata": {},
   "outputs": [],
   "source": [
    "temp = 0\n",
    "temp2 = 0\n",
    "for i in range (0, no_of_sent):\n",
    "    for j in range(0, no_of_sent-i-1):\n",
    "        if (sen_freq[j] < sen_freq[j+1]):\n",
    "            temp = sen_freq[j]\n",
    "            sen_freq[j] = sen_freq[j+1]\n",
    "            sen_freq[j+1] = temp\n",
    "            \n",
    "            temp2 = word[j]\n",
    "            word[j] = word[j+1]\n",
    "            word[j+1] = temp2\n",
    "            \n",
    "    "
   ]
  },
  {
   "cell_type": "markdown",
   "metadata": {},
   "source": [
    "# Output"
   ]
  },
  {
   "cell_type": "code",
   "execution_count": 7,
   "metadata": {},
   "outputs": [
    {
     "name": "stdout",
     "output_type": "stream",
     "text": [
      "[['the', 'theory', 'holds', 'that', 'the', 'universe', 'is', 'utterly', 'rational', 'because', 'complete', 'knowledge', 'of', 'any', 'given', 'situation', 'assures', 'that', 'unerring', 'knowledge', 'of', 'its', 'future', 'is', 'also', 'possible'], ['hard', 'determinism', 'is', 'a', 'position', 'on', 'the', 'relationship', 'of', 'determinism', 'to', 'free', 'will'], ['determinism', 'is', 'at', 'times', 'understood', 'to', 'preclude', 'free', 'will', 'because', 'it', 'entails', 'that', 'humans', 'can', 'not', 'act', 'otherwise', 'than', 'they', 'do'], ['the', 'opposite', 'of', 'determinism', 'is', 'some', 'kind', 'of', 'indeterminism', 'otherwise', 'called', 'nondeterminism'], ['some', 'philosophers', 'suggest', 'variants', 'around', 'this', 'basic', 'theories', 'throughout', 'the', 'history', 'of', 'philosophy', 'have', 'sprung', 'from', 'diverse', 'and', 'sometimes', 'overlapping', 'motives', 'and', 'considerations'], ['determinism', 'is', 'the', 'philosophical', 'idea', 'that', 'all', 'events', 'including', 'moral', 'choices', 'are', 'determined', 'completely', 'by', 'previously', 'existing', 'causes'], ['it', 'can', 'also', 'be', 'called', 'hard', 'determinism', 'from', 'this', 'point', 'of', 'view'], ['determinism', 'is', 'often', 'contrasted', 'with', 'free', 'will']]\n"
     ]
    }
   ],
   "source": [
    "print(word)"
   ]
  }
 ],
 "metadata": {
  "kernelspec": {
   "display_name": "Python 3",
   "language": "python",
   "name": "python3"
  },
  "language_info": {
   "codemirror_mode": {
    "name": "ipython",
    "version": 3
   },
   "file_extension": ".py",
   "mimetype": "text/x-python",
   "name": "python",
   "nbconvert_exporter": "python",
   "pygments_lexer": "ipython3",
   "version": "3.6.4"
  }
 },
 "nbformat": 4,
 "nbformat_minor": 1
}
